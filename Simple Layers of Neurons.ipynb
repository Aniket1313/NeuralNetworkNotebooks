{
 "cells": [
  {
   "cell_type": "markdown",
   "metadata": {},
   "source": [
    "### Imports"
   ]
  },
  {
   "cell_type": "code",
   "execution_count": 53,
   "metadata": {
    "collapsed": true
   },
   "outputs": [],
   "source": [
    "import numpy as np\n",
    "import matplotlib.pyplot as plt\n",
    "from math import exp\n",
    "from numpy import newaxis"
   ]
  },
  {
   "cell_type": "markdown",
   "metadata": {},
   "source": [
    "## Tranfer Function Options"
   ]
  },
  {
   "cell_type": "code",
   "execution_count": 88,
   "metadata": {
    "collapsed": false
   },
   "outputs": [],
   "source": [
    "def hardlim(n):\n",
    "    # w and p are vectors of length n and b is the bias\n",
    "    # hardlim return 1 if sum w*p + b is greater than or equal to zero and returns 0 otherwise\n",
    "    if n >= 0:\n",
    "        return 1\n",
    "    else:\n",
    "        return 0\n",
    "\n",
    "def hardlims(n):\n",
    "    # w and p are vectors of length n and b is the bias\n",
    "    # hardlim returns 1 if sum w*p + b is greater than or equal to zero and returns -1 otherwise\n",
    "    if n >= 0:\n",
    "        return 1\n",
    "    else:\n",
    "        return -1    \n",
    "\n",
    "def purelin(n):\n",
    "    # w and p are vectors of length n and b is the bias\n",
    "    # purelin simply return the sum w*p + bias\n",
    "    return n\n",
    "\n",
    "def satlin(n):\n",
    "    # w and p are vectors of length n and b is the bias\n",
    "    # satlin returns 0 if sum w*p + b is less than zero, returns sum itself if sum is less than or equal to one\n",
    "    # and 1 is sum is greater than 1\n",
    "    a = n\n",
    "    if a < 0:\n",
    "        return 0\n",
    "    elif a <= 1:\n",
    "        return a\n",
    "    else: \n",
    "        return 1\n",
    "    \n",
    "def satlins(n):\n",
    "    # w and p are vectors of length n and b is the bias\n",
    "    # satlin returns -1 if sum w*p + b is less than -1, returns sum itself if sum is less than or equal to one\n",
    "    # and 1 is sum is greater than 1\n",
    "    a = summer(n)\n",
    "    if a < -1:\n",
    "        return -1\n",
    "    elif a <= 1:\n",
    "        return a\n",
    "    else: \n",
    "        return 1\n",
    "    \n",
    "def logsig(n):\n",
    "    # w and p are vectors of length n and b is the bias\n",
    "    # logsig returns 1/(1+e^-sum) where sum is w*p + b\n",
    "    return 1.0/(1.0 + exp(-1.0*n))\n",
    "\n",
    "def tansig(n):\n",
    "    # w and p are vectors of length n and b is the bias\n",
    "    # tansig returns (e^sum - e^-sum)/(e^sum + s^-sum) where sum is w*p + b\n",
    "    return (exp(n) - exp(-n))/(exp(n) + exp(-n))\n",
    "\n",
    "def test(func):\n",
    "    n = -5\n",
    "    x = []\n",
    "    y = []\n",
    "    precision = 1000\n",
    "    for i in range(0, 10*precision):\n",
    "        x.append(n + 1.0*i/precision)\n",
    "        y.append(func(n + 1.0*i/precision))\n",
    "    plt.xlim([-5, 5])\n",
    "    plt.ylim([-1.5, 1.5])\n",
    "    plt.xlabel('Summer Output')\n",
    "    plt.ylabel(func)\n",
    "    plt.plot(x, y)\n",
    "    plt.show()\n",
    "    print(np.array(x))\n",
    "    print(np.array(y))\n",
    "\n",
    "#test(hardlim)\n",
    "#test(hardlims)\n",
    "#test(purelin)\n",
    "#test(satlin)\n",
    "#test(satlins)\n",
    "#test(logsig)\n",
    "#test(tansig)"
   ]
  },
  {
   "cell_type": "markdown",
   "metadata": {},
   "source": [
    "### Single Neuron"
   ]
  },
  {
   "cell_type": "code",
   "execution_count": 89,
   "metadata": {
    "collapsed": true
   },
   "outputs": [],
   "source": [
    "def apply_on_1D(f, n):      # It is called 1D because it is used for 1D weight matrices.\n",
    "    # f is function and n is neuron's summer output\n",
    "    return f(n)"
   ]
  },
  {
   "cell_type": "code",
   "execution_count": 90,
   "metadata": {
    "collapsed": false
   },
   "outputs": [],
   "source": [
    "def getNeuronOuput(f, w, p, bias):\n",
    "    # w and p are vectors of length n and b is the bias\n",
    "    # summer returns w_1*p_1 + w_2*p_2 + ... + w_n*p_n + b\n",
    "    n = w.dot(p) + bias\n",
    "    return apply_on_1D(f, n[0])\n",
    "\n",
    "f = tansig\n",
    "w = np.array([0.5, 1, 1])\n",
    "p = np.array([-1, -1, 1])[:, newaxis]\n",
    "b = [1]\n",
    "\n",
    "#print(getNeuronOuput(f, w, p, b))"
   ]
  },
  {
   "cell_type": "markdown",
   "metadata": {},
   "source": [
    "## Theory of Layer of Neurons"
   ]
  },
  {
   "cell_type": "markdown",
   "metadata": {},
   "source": [
    "### Variables:"
   ]
  },
  {
   "cell_type": "markdown",
   "metadata": {},
   "source": [
    "#### Numbers: "
   ]
  },
  {
   "cell_type": "markdown",
   "metadata": {},
   "source": [
    "R: number of inputs to the layer i.e. number of inputs to each neuron\n",
    "\n",
    "S: number of outputs of the layer i.e. number of neurons in the layer\n",
    "\n",
    "\n"
   ]
  },
  {
   "cell_type": "markdown",
   "metadata": {},
   "source": [
    "#### Vectors: "
   ]
  },
  {
   "cell_type": "markdown",
   "metadata": {},
   "source": [
    "^p: the input vector, a Rx1 matrix\n",
    "\n",
    "^W: the weight matrix, a SxR matrix\n",
    "\n",
    "^b: the bias matrix, a Sx1 matrix\n",
    "\n",
    "^n: the summer output matrix i.e. (^W)x(^p) + (^b), a Sx1 matrix\n",
    "\n",
    "^f: the tranfer function matrix, a Sx1 matrix\n",
    "\n",
    "^a: the output matrix i.e. (^f)(^n), a Sx1 matrix"
   ]
  },
  {
   "cell_type": "markdown",
   "metadata": {},
   "source": [
    "#### Representation"
   ]
  },
  {
   "cell_type": "markdown",
   "metadata": {},
   "source": [
    "A layer of neuron has a matrix output function which acts upon the summer output. \n",
    "Summer ouput is made by adding the product of weight and input matrix to the bias matrix."
   ]
  },
  {
   "cell_type": "markdown",
   "metadata": {},
   "source": [
    "# Single Layer of Neurons"
   ]
  },
  {
   "cell_type": "code",
   "execution_count": 96,
   "metadata": {
    "collapsed": false
   },
   "outputs": [],
   "source": [
    "def apply_on_2D(f, n):           # It is called 2D because it is used for 2D weight matrices.\n",
    "    # f is an numpy array of functions and n is numpy array of neurons' outputs in layer.\n",
    "    output = n.copy()\n",
    "    S = len(f)\n",
    "    for i in range(S):\n",
    "        output[i] = f[i](n[i])\n",
    "    return output\n",
    "\n",
    "# print(apply_on_2D(np.array([logsig, tansig]), np.array([2.0, 0.3])))"
   ]
  },
  {
   "cell_type": "code",
   "execution_count": 104,
   "metadata": {
    "collapsed": false
   },
   "outputs": [
    {
     "name": "stdout",
     "output_type": "stream",
     "text": [
      "[0 1]\n"
     ]
    }
   ],
   "source": [
    "def getLayerOutput(f, W, p, b):\n",
    "    # S is the number of neurons in the layer, R is the number of inputs from previous layer. \n",
    "    # funcs or f is the function matrix (Sx1), W is the weight matrix (SxR), inputs or p is the input matrix,\n",
    "    # biasses or b is the bias matrix.\n",
    "    # getLayerOuput returns the result (matrix a) obtained by operating functions from funtions matrix \n",
    "    # on weights times inputs plus bias. \n",
    "    # a = f(n), n = W*p + b, return a. OR n[i] = f[i](W[i]*p + b[i])\n",
    "    n = W.dot(p) + b\n",
    "    return apply_on_2D(f.ravel(), n.ravel())\n",
    "     \n",
    "f = np.array([logsig, hardlim])[:, newaxis]\n",
    "W = np.array([[1, 3, 4], [6, 2, 1]])\n",
    "p = np.array([1, 2, 3])[:, newaxis]\n",
    "b = np.array([1, 2])[:, newaxis]\n",
    "print(getLayerOutput(f, W, p, b))"
   ]
  },
  {
   "cell_type": "markdown",
   "metadata": {},
   "source": [
    "# Multiple Layers of Neurons"
   ]
  },
  {
   "cell_type": "markdown",
   "metadata": {},
   "source": [
    "Let there be k layers. Number of inputs and number of neurons (or outputs) in each layer be (R_1, S_1), (R_2, S_2), ... , (R_k, S_k). Since, in a multiple layer neural network, for each layer input is the output from previous layer and output is the input to next layer, it must be true that:\n",
    "\n",
    "R_1 = number of inputs to neural network. S_1 = R_2, S_2 = R_3, ... , S_(k-1) = R_k and S_(k) = number of outputs of neural network.\n",
    "\n",
    "Also, let W_1, W_2, ... , W_(k) be the weights, b1, b_2, ... , b_(k) be the biasses of layer and f_1, f_2, ... , f_(k) be the functions.\n",
    "\n",
    "So, to a network, we can pass the three dimensional matrix W with W_1, W_2, ... , W_(k) as its elements, a two dimensinal matrix b with b_1, b_2, ... , b_(k) as its elements, a two dimensional matrix f with f_1, f_2, ... , f_(k) as its elemnts and an input vector p.\n"
   ]
  },
  {
   "cell_type": "code",
   "execution_count": 114,
   "metadata": {
    "collapsed": false
   },
   "outputs": [
    {
     "name": "stdout",
     "output_type": "stream",
     "text": [
      "[1 0 1]\n"
     ]
    }
   ],
   "source": [
    "def getMultipleLayerOutput(f, W, b, p):\n",
    "    # Let k be the number of layers in neural network. f is a two dimensional matrix f with \n",
    "    # f_1, f_2, ... , f_(k) as its elements. W is the three dimensional vector with W_1, W_2, ... , W_(k) \n",
    "    # as its elements. b is a two dimensinal matrix with b_1, b_2, ... , b_(k) as its \n",
    "    # elements. p is the input vector. getMultipleLayerOutput takes\n",
    "    # the input p as the input to network and layers of neurons operator consecutively on\n",
    "    # it to get the output of the network. It returns THE FINAL OUTPUT OF ALL THE LAYERS.\n",
    "    # a be the two dimensional matrix with a_1, a_2, ..., a_(k) as outputs of \n",
    "    # the layers of neural networks. a[0] = f[0](W[0]*p + b[0]) and a[i] = f[i](W[i]*a[i-1] + b[i]) for i > 0. \n",
    "    a = []\n",
    "    a.append(getLayerOutput(np.array(f[0]), np.array(W[0]), np.array(p), np.array(b[0])))\n",
    "    for i in range(1, len(W)):\n",
    "        a.append(getLayerOutput(np.array(f[i]), np.array(W[i]), np.array(a[i-1]), np.array(b[i])))\n",
    "    return a[-1]\n",
    "\n",
    "f = np.array([[logsig]*4, \n",
    "              [tansig]*2, \n",
    "              [hardlim]*3])\n",
    "W = np.array([[[1, 1, 1], \n",
    "              [1, 5, 2], \n",
    "              [-1, -2, 4], \n",
    "              [2, 1, 2]], \n",
    "             [[1, 10, 1, 1], \n",
    "              [-1, -2, -3, -2]], \n",
    "             [[2, -2], \n",
    "              [-1, 3], \n",
    "              [6, -3]]])\n",
    "p = np.array([[1, -2, 3, -4], \n",
    "             [1, -1], \n",
    "             [1, -2, 0]])\n",
    "b = np.array([1, 2, 3])\n",
    "\n",
    "print(getMultipleLayerOutput(f, W, p, b))"
   ]
  },
  {
   "cell_type": "markdown",
   "metadata": {},
   "source": [
    "# Notes"
   ]
  },
  {
   "cell_type": "markdown",
   "metadata": {},
   "source": [
    "### Assignment by Reference"
   ]
  },
  {
   "cell_type": "code",
   "execution_count": 10,
   "metadata": {
    "collapsed": false
   },
   "outputs": [
    {
     "name": "stdout",
     "output_type": "stream",
     "text": [
      "[1, 100, 3]\n",
      "[1, 100, 3]\n"
     ]
    }
   ],
   "source": [
    "array1 = [1, 2, 3]\n",
    "array2 = array1\n",
    "\n",
    "array2[1] = 100\n",
    "\n",
    "print(array1)\n",
    "print(array2)"
   ]
  },
  {
   "cell_type": "markdown",
   "metadata": {},
   "source": [
    "### Array of Same Functions"
   ]
  },
  {
   "cell_type": "code",
   "execution_count": 33,
   "metadata": {
    "collapsed": false
   },
   "outputs": [
    {
     "name": "stdout",
     "output_type": "stream",
     "text": [
      "[<function hardlim at 0x7febb5266ea0>, <function hardlim at 0x7febb5266ea0>, <function hardlim at 0x7febb5266ea0>, <function hardlim at 0x7febb5266ea0>]\n",
      "[[<function logsig at 0x7febb5266bf8>], [<function logsig at 0x7febb5266bf8>], [<function logsig at 0x7febb5266bf8>], [<function logsig at 0x7febb5266bf8>], [<function logsig at 0x7febb5266bf8>]]\n"
     ]
    }
   ],
   "source": [
    "p = [hardlim]*4\n",
    "print(p)\n",
    "\n",
    "print([[logsig]*1]*5)"
   ]
  }
 ],
 "metadata": {
  "kernelspec": {
   "display_name": "Python 2",
   "language": "python",
   "name": "python2"
  },
  "language_info": {
   "codemirror_mode": {
    "name": "ipython",
    "version": 2
   },
   "file_extension": ".py",
   "mimetype": "text/x-python",
   "name": "python",
   "nbconvert_exporter": "python",
   "pygments_lexer": "ipython2",
   "version": "2.7.6"
  }
 },
 "nbformat": 4,
 "nbformat_minor": 0
}
