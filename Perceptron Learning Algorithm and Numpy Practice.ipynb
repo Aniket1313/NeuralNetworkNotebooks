{
 "cells": [
  {
   "cell_type": "markdown",
   "metadata": {},
   "source": [
    "# Perceptron Learning Algorithms"
   ]
  },
  {
   "cell_type": "markdown",
   "metadata": {},
   "source": [
    "### Imports"
   ]
  },
  {
   "cell_type": "code",
   "execution_count": 3,
   "metadata": {
    "collapsed": true
   },
   "outputs": [],
   "source": [
    "import numpy as np\n",
    "import matplotlib.pyplot as plt\n",
    "from math import exp\n",
    "from numpy import newaxis\n",
    "import copy\n",
    "import random"
   ]
  },
  {
   "cell_type": "markdown",
   "metadata": {},
   "source": [
    "##### Supervised Learning "
   ]
  },
  {
   "cell_type": "markdown",
   "metadata": {},
   "source": [
    "In supervised learning, correspoding to each input, correct target output is given. Perceptron Learning Algorithm fall in this category.\n",
    "\n",
    "{p_1, t_1}, {p_2, t_2}, ... , {p_Q, t_Q}"
   ]
  },
  {
   "cell_type": "markdown",
   "metadata": {},
   "source": [
    "##### Reinforcement Learning"
   ]
  },
  {
   "cell_type": "markdown",
   "metadata": {},
   "source": [
    "Instead of correct output, the network is given only a grade on its performance on inputs and corresponding outputs the network gives. "
   ]
  },
  {
   "cell_type": "markdown",
   "metadata": {},
   "source": [
    "##### Unsupervised Learning"
   ]
  },
  {
   "cell_type": "markdown",
   "metadata": {},
   "source": [
    "Weights and biases are modified in response to inputs only. Generally it is used to cluster inputs."
   ]
  },
  {
   "cell_type": "markdown",
   "metadata": {},
   "source": [
    "## Perceptron"
   ]
  },
  {
   "cell_type": "markdown",
   "metadata": {},
   "source": [
    "Output is given by a = hardlim (W * p + b)\n",
    "\n",
    "For a particular neuron, decision boundary is determined by making summer output to zero i.e. W * p + b = 0. This equations partitions the space of possible inputs into two parts. If W * p + b > 1, output is 1, and 0 otherwise. Example: a line if there are 2 inputs, plane if there are 3 inputs. One can plot the graph for 2 or 3 inputs easily.\n",
    "\n",
    "Claim: For a particular neuron, the weights vector always points in the direction where the output is 1. \n",
    "Proof: Consider ax + by = c. Also point (x_o, y_o) satisfies this. Moving in direction of (a, b), we go to (x_o + m * a, y_o + m * b) where m > 0. Putting in above equation we get ax + by = c + m(a^2 + b^2) > c. Hence Proved. \n",
    "\n",
    "Let error be defined as e = t - a.\n",
    "\n",
    "W_new = W_old + e * p\n",
    "\n",
    "b_new = b_old + e\n",
    "\n",
    "It can be proved that the algorithms converges to the correct solution given there exists one!    "
   ]
  },
  {
   "cell_type": "markdown",
   "metadata": {},
   "source": [
    "#### Transfer Functions"
   ]
  },
  {
   "cell_type": "code",
   "execution_count": 38,
   "metadata": {
    "collapsed": false
   },
   "outputs": [],
   "source": [
    "def hardlim(n):\n",
    "    # w and p are vectors of length n and b is the bias\n",
    "    # hardlim return 1 if sum w*p + b is greater than or equal to zero and returns 0 otherwise\n",
    "    if n >= 0:\n",
    "        return 1.0\n",
    "    else:\n",
    "        return 0.0\n",
    "\n",
    "def hardlims(n):\n",
    "    # w and p are vectors of length n and b is the bias\n",
    "    # hardlim returns 1 if sum w*p + b is greater than or equal to zero and returns -1 otherwise\n",
    "    if n >= 0:\n",
    "        return 1.0\n",
    "    else:\n",
    "        return -1.0   \n",
    "\n",
    "def purelin(n):\n",
    "    # w and p are vectors of length n and b is the bias\n",
    "    # purelin simply return the sum w*p + bias\n",
    "    return n*1.0\n",
    "\n",
    "def satlin(n):\n",
    "    # w and p are vectors of length n and b is the bias\n",
    "    # satlin returns 0 if sum w*p + b is less than zero, returns sum itself if sum is less than or equal to one\n",
    "    # and 1 is sum is greater than 1\n",
    "    a = n\n",
    "    if a < 0:\n",
    "        return 0.0\n",
    "    elif a <= 1:\n",
    "        return a*1.0\n",
    "    else: \n",
    "        return 1.0\n",
    "    \n",
    "def satlins(n):\n",
    "    # w and p are vectors of length n and b is the bias\n",
    "    # satlin returns -1 if sum w*p + b is less than -1, returns sum itself if sum is less than or equal to one\n",
    "    # and 1 is sum is greater than 1\n",
    "    a = n\n",
    "    if a < -1:\n",
    "        return -1.0\n",
    "    elif a <= 1:\n",
    "        return a*1.0\n",
    "    else: \n",
    "        return 1.0\n",
    "    \n",
    "def logsig(n):\n",
    "    # w and p are vectors of length n and b is the bias\n",
    "    # logsig returns 1/(1+e^-sum) where sum is w*p + b\n",
    "    return 1.0/(1.0 + exp(-1.0*n))\n",
    "\n",
    "def tansig(n):\n",
    "    # w and p are vectors of length n and b is the bias\n",
    "    # tansig returns (e^sum - e^-sum)/(e^sum + s^-sum) where sum is w*p + b\n",
    "    return (exp(n) - exp(-n))/(exp(n) + exp(-n))\n",
    "\n",
    "def test(func):\n",
    "    n = -5\n",
    "    x = []\n",
    "    y = []\n",
    "    precision = 1000\n",
    "    for i in range(0, 10*precision):\n",
    "        x.append(n + 1.0*i/precision)\n",
    "        y.append(func(n + 1.0*i/precision))\n",
    "    plt.xlim([-5, 5])\n",
    "    plt.ylim([-1.5, 1.5])\n",
    "    plt.xlabel('Summer Output')\n",
    "    plt.ylabel(func)\n",
    "    plt.plot(x, y)\n",
    "    plt.show()\n",
    "    print(np.array(x))\n",
    "    print(np.array(y))\n",
    "\n",
    "#test(hardlim)\n",
    "#test(hardlims)\n",
    "#test(purelin)\n",
    "#test(satlin)\n",
    "#test(satlins)\n",
    "#test(logsig)\n",
    "#test(tansig)"
   ]
  },
  {
   "cell_type": "markdown",
   "metadata": {},
   "source": [
    "#### Single Layer Network"
   ]
  },
  {
   "cell_type": "code",
   "execution_count": 39,
   "metadata": {
    "collapsed": false
   },
   "outputs": [],
   "source": [
    "def apply_on_1D(f, n):      # It is called 1D because it is used for 1D weight matrices.\n",
    "    # f is function and n is neuron's summer output\n",
    "    return f(n)\n",
    "\n",
    "def getNeuronOuput(f, w, p, bias):\n",
    "    # w and p are vectors of length n and b is the bias\n",
    "    # summer returns w_1*p_1 + w_2*p_2 + ... + w_n*p_n + b\n",
    "    n = w.dot(p) + bias\n",
    "    return apply_on_1D(f, n[0])\n",
    "\n",
    "f = tansig\n",
    "w = np.array([0.5, 1, 1])\n",
    "p = np.array([-1, -1, 1])[:, newaxis]\n",
    "b = [1]\n",
    "\n",
    "#print(getNeuronOuput(f, w, p, b))\n",
    "\n",
    "def apply_on_2D(f, n):           # It is called 2D because it is used for 2D weight matrices.\n",
    "    # f is an numpy array of functions and n is numpy array of neurons' outputs in layer.\n",
    "    output = n.copy()\n",
    "    S = len(f)\n",
    "    for i in range(S):\n",
    "        output[i] = f[i](n[i])\n",
    "    return output\n",
    "\n",
    "# print(apply_on_2D(np.array([logsig, tansig]), np.array([2.0, 0.3])))\n",
    "\n",
    "def getSingleLayerOutput(f, W, p, b):\n",
    "    # S is the number of neurons in the layer, R is the number of inputs from previous layer. \n",
    "    # funcs or f is the function matrix (Sx1), W is the weight matrix (SxR), inputs or p is the input matrix,\n",
    "    # biasses or b is the bias matrix.\n",
    "    # getLayerOuput returns the result (matrix a) obtained by operating functions from funtions matrix \n",
    "    # on weights times inputs plus bias. \n",
    "    # a = f(n), n = W*p + b, return a. OR n[i] = f[i](W[i]*p + b[i])\n",
    "    n = W.dot(p) + b\n",
    "    return apply_on_2D(f.ravel(), n.ravel())[:, newaxis]\n",
    "     \n",
    "# f = np.array([logsig, hardlim])[:, newaxis]\n",
    "# W = np.array([[1, 3, 4], [6, 2, 1]])\n",
    "# p = np.array([1, 2, 3])[:, newaxis]\n",
    "# b = np.array([1, 2])[:, newaxis]\n",
    "# print(getLayerOutput(f, W, p, b))"
   ]
  },
  {
   "cell_type": "markdown",
   "metadata": {},
   "source": [
    "### Class for Single Layer Network"
   ]
  },
  {
   "cell_type": "code",
   "execution_count": 40,
   "metadata": {
    "collapsed": false
   },
   "outputs": [],
   "source": [
    "class SinglelayeredNetwork(object):\n",
    "    # Class contains the following variables:\n",
    "    # functions - functions[i] is the transfer function of ith neuron\n",
    "    # weights - weights[i][j] is jth weight for ith neuron.\n",
    "    # biases - biases[i] is the bias of ith neuron.\n",
    "    \n",
    "    def __init__(self, functions, weights, biases):\n",
    "        self.functions = np.array(functions)\n",
    "        self.weights = np.array(weights)\n",
    "        self.biases = np.array(biases)\n",
    "        return\n",
    "    \n",
    "    def getNumOfNeurons(self):\n",
    "        # returns the number of neurons in ith layer\n",
    "        return len(self.weights)\n",
    "    \n",
    "    def getInputSize(self):\n",
    "        # returns the size of input in network to ith layer\n",
    "        return len(self.weights[0])\n",
    "    \n",
    "    def getFunctions(self):\n",
    "        return self.functions\n",
    "    \n",
    "    def getWeights(self):\n",
    "        return self.weights\n",
    "   \n",
    "    def getBiases(self):\n",
    "        return self.biases\n",
    "       \n",
    "    def getSingleLayerNetworkOutput(self, inputToNet):\n",
    "        return getSingleLayerOutput(self.functions, self.weights, inputToNet, self.biases)\n",
    "    \n",
    "# functions = np.array([logsig]*4)[:, newaxis]\n",
    "# weights = np.array([[1.5, -1.5, 1], \n",
    "#                     [1.1, 3, 2.0], \n",
    "#                     [-1.1, -2.3, 4], \n",
    "#                     [2.1, 1, 2.3]]) \n",
    "# biases = np.array([1, -2, 3, -4])[:, newaxis]\n",
    "# p = np.array([1, 2, 3])[:, newaxis]\n",
    "\n",
    "# singleLayerTest = SinglelayeredNetwork(functions, weights, biases)\n",
    "# print(singleLayerTest.getWeights())\n",
    "# print(singleLayerTest.getSingleLayerNetworkOutput(p))"
   ]
  },
  {
   "cell_type": "markdown",
   "metadata": {},
   "source": [
    "## Perceptron Learning Algorithm"
   ]
  },
  {
   "cell_type": "markdown",
   "metadata": {},
   "source": [
    "### Generating a Random Dataset and Classification"
   ]
  },
  {
   "cell_type": "code",
   "execution_count": 57,
   "metadata": {
    "collapsed": false
   },
   "outputs": [],
   "source": [
    "# We are generating a random sample with n elements with maximum and minimum values \n",
    "\n",
    "numOfPoints = 10000\n",
    "maximum = 10.0\n",
    "minimum = -10.0\n",
    "dataset = []\n",
    "ZeroXs = []\n",
    "ZeroYs = []\n",
    "OneXs = []\n",
    "OneYs = []\n",
    "classification = (random.random()*2-1, random.random()*2-1, random.random()*2-1)\n",
    "\n",
    "for i in range (0, numOfPoints):\n",
    "    number1 = random.uniform(minimum, maximum)\n",
    "    number2 = random.uniform(minimum, maximum)\n",
    "    classType = 0.0\n",
    "    if number1 * classification[0] + number2 * classification[1] + 1.0 * classification[2] > 0:\n",
    "        classType = 1.0\n",
    "    dataset.append([[number1, number2], [classType]])\n",
    "    if classType == 0.0:\n",
    "        ZeroXs.append(number1)\n",
    "        ZeroYs.append(number2)\n",
    "    elif classType == 1.0:\n",
    "        OneXs.append(number1)\n",
    "        OneYs.append(number2)\n",
    "\n",
    "x = np.linspace(minimum, maximum, 10000)\n",
    "y = []\n",
    "for xvalue in x:\n",
    "    y.append((-1.0*classification[2]-classification[0]*xvalue)/classification[1])\n",
    "plt.xlim([minimum, maximum])\n",
    "plt.ylim([minimum, maximum])\n",
    "plt.title(\"Classification\")\n",
    "plt.xlabel(\"X axis\")\n",
    "plt.ylabel(str(classification[0]) + \"x + \" + str(classification[1]) \n",
    "           + \"y + \" + str(classification[2]) + \" = 0\")\n",
    "plt.plot(OneXs, OneYs, 'ro', ZeroXs, ZeroYs, 'g^')\n",
    "plt.plot(x, y)\n",
    "plt.show()"
   ]
  },
  {
   "cell_type": "markdown",
   "metadata": {},
   "source": [
    "### Plotting a Line"
   ]
  },
  {
   "cell_type": "code",
   "execution_count": 58,
   "metadata": {
    "collapsed": false
   },
   "outputs": [],
   "source": [
    "def plot(tupleABC, title):\n",
    "    givenX = np.linspace(minimum, maximum, 10000)\n",
    "    givenY = []\n",
    "    for xvalue in givenX:\n",
    "        givenY.append((-1.0*tupleABC[2]-tupleABC[0]*xvalue)/tupleABC[1])\n",
    "    plt.xlim([minimum, maximum])\n",
    "    plt.ylim([minimum, maximum])\n",
    "    plt.title(title)\n",
    "    plt.xlabel(\"X axis\")\n",
    "    plt.ylabel(str(tupleABC[0]) + \"x + \" + str(tupleABC[1]) \n",
    "               + \"y + \" + str(tupleABC[2]) + \" = 0\")\n",
    "    plt.plot(OneXs, OneYs, 'ro', ZeroXs, ZeroYs, 'g^')\n",
    "    #plt.plot(x, y)\n",
    "    plt.plot(givenX, givenY)\n",
    "    plt.show()\n",
    "    #print(np.array(x))\n",
    "    #print(np.array(y))\n",
    "    return\n",
    "\n",
    "# for i in range(10):\n",
    "#     plot((random.random()*2-1, random.random()*2-1, random.random()*2-1), \"Random Input\")\n",
    "\n",
    "def plotError(tupleABC, pX, pY, title):\n",
    "    givenX = np.linspace(minimum, maximum, 10000)\n",
    "    givenY = []\n",
    "    for xvalue in givenX:\n",
    "        givenY.append((-1.0*tupleABC[2]-tupleABC[0]*xvalue)/tupleABC[1])\n",
    "    plt.xlim([minimum, maximum])\n",
    "    plt.ylim([minimum, maximum])\n",
    "    plt.title(title)\n",
    "    plt.xlabel(\"X axis\")\n",
    "    plt.ylabel(str(tupleABC[0]) + \"x + \" + str(tupleABC[1]) \n",
    "               + \"y + \" + str(tupleABC[2]) + \" = 0\")\n",
    "    plt.plot(OneXs, OneYs, 'ro', ZeroXs, ZeroYs, 'g^')\n",
    "    #plt.plot(x, y)\n",
    "    plt.plot(givenX, givenY)\n",
    "    plt.plot([pX], [pY], 'yo')\n",
    "    plt.show()\n",
    "    #print(np.array(x))\n",
    "    #print(np.array(y))\n",
    "    return\n",
    "\n",
    "# for i in range(10):\n",
    "#     plot((random.random()*2-1, random.random()*2-1, random.random()*2-1), \"Random Input\")"
   ]
  },
  {
   "cell_type": "markdown",
   "metadata": {},
   "source": [
    "### Learning Algorithm"
   ]
  },
  {
   "cell_type": "code",
   "execution_count": 59,
   "metadata": {
    "collapsed": false
   },
   "outputs": [],
   "source": [
    "def learn(self, inputToNet, target):\n",
    "    # inputTonet is the input numpy matrix of size Rx1 \n",
    "    # target is the target output matrix of size Sx1\n",
    "    error = target - self.getSingleLayerNetworkOutput(inputToNet)\n",
    "    randNum = random.random()\n",
    "    if error[0][0] != 0 and randNum < 1/numOfPoints:\n",
    "        print(randNum)\n",
    "        plotError((self.getWeights()[0][0], \n",
    "              self.getWeights()[0][1], \n",
    "              self.getBiases()[0][0]),\n",
    "             inputToNet[0][0], inputToNet[1][0],\n",
    "             \"Initial Condition\")\n",
    "#     print(\"Target is...\")\n",
    "#     print(target)\n",
    "#     print(\"Output is...\")\n",
    "#     print(self.getSingleLayerNetworkOutput(inputToNet))\n",
    "#     print(\"Error is...\")\n",
    "#     print(error)\n",
    "    \n",
    "    self.weights = self.weights + error.dot(inputToNet.transpose())\n",
    "    self.biases = self.biases + error\n",
    "#     print(\"Change in weights is...\")\n",
    "#     print(error.dot(inputToNet.transpose()))\n",
    "#     print(\"Change in bias is...\")\n",
    "#     print(error)\n",
    "    \n",
    "#     print(\"Weights are now...\")\n",
    "#     print(self.weights)\n",
    "#     print(\"Biases are now...\")\n",
    "#     print(self.biases)\n",
    "    \n",
    "    if abs(error[0][0]) < 0.001:\n",
    "        return True\n",
    "    else:\n",
    "        return False\n",
    "\n",
    "SinglelayeredNetwork.learn = learn\n",
    "\n"
   ]
  },
  {
   "cell_type": "markdown",
   "metadata": {},
   "source": [
    "### Test 1"
   ]
  },
  {
   "cell_type": "code",
   "execution_count": 60,
   "metadata": {
    "collapsed": false
   },
   "outputs": [
    {
     "name": "stdout",
     "output_type": "stream",
     "text": [
      "Classification is...\n",
      "(-0.3759131412890018, 0.8314354603444498, 0.5820319810874779)\n",
      "Initial classification is...\n",
      "(-1.0, -0.45212546158816375, 0.0)\n",
      "Initially, on 4987 out of 10000 data points the network gives wrong output.\n",
      "Final classification is...\n",
      "(-55.174756205293562, 121.98872727410311, 85.0)\n",
      "Ratios are...\n",
      "(146.77527903414062, 146.7206212537113, 146.04008501592065)\n",
      "It took 14 number of interations to get to right output.\n"
     ]
    }
   ],
   "source": [
    "# TEST\n",
    "\n",
    "print(\"Classification is...\")\n",
    "print(classification)\n",
    "plot(classification, \"Classification\")\n",
    "\n",
    "functions = np.array([hardlim]*1)[:, newaxis]\n",
    "weights = np.array([[-1, classification[0]/classification[1]]])  # perpendicular to classification direction \n",
    "biases = np.array([[0.0]])\n",
    "\n",
    "singleLayerNetworkTest = SinglelayeredNetwork(functions, weights, biases)\n",
    "\n",
    "targetBoolMatrix = []\n",
    "for data in dataset:\n",
    "    targetBoolMatrix.append(data[1][0])\n",
    "    # print(data[1][0])\n",
    "\n",
    "initA = singleLayerNetworkTest.getWeights()[0][0]\n",
    "initB = singleLayerNetworkTest.getWeights()[0][1]\n",
    "initC = singleLayerNetworkTest.getBiases()[0][0]\n",
    "        \n",
    "print(\"Initial classification is...\")\n",
    "print((initA, initB, initC))\n",
    "\n",
    "plot((singleLayerNetworkTest.getWeights()[0][0], \n",
    "      singleLayerNetworkTest.getWeights()[0][1], \n",
    "      singleLayerNetworkTest.getBiases()[0][0]),\n",
    "    \"Initial Condition\")\n",
    "\n",
    "# for data in dataset:\n",
    "#     inputToNet = np.array(data[0])[:, newaxis]\n",
    "#     print(singleLayerNetworkTest.getSingleLayerNetworkOutput(inputToNet))\n",
    "\n",
    "finalBoolMatrix = []\n",
    "for data in dataset:\n",
    "    inputToNet = np.array(data[0])[:, newaxis]\n",
    "    finalBoolMatrix.append(singleLayerNetworkTest.getSingleLayerNetworkOutput(inputToNet)[0][0])\n",
    "    \n",
    "# print(\"Target Boolean Matrix is...\")\n",
    "# print(np.array(targetBoolMatrix))\n",
    "# print(\"Initial Output Bool Matrix is...\")\n",
    "# print(np.array(finalBoolMatrix))\n",
    "\n",
    "wrong = int(((np.array(targetBoolMatrix)-np.array(finalBoolMatrix))**2).sum())\n",
    "print(\"Initially, on \" + str(wrong) + \" out of \" + str(len(dataset)) \n",
    "      + \" data points the network gives wrong output.\")\n",
    "\n",
    "numOfInterations = 0\n",
    "\n",
    "while wrong > 0:\n",
    "    numOfInterations += 1\n",
    "    for data in dataset:\n",
    "        # print(data)\n",
    "        inputToNet = np.array(data[0])[:, newaxis]\n",
    "        target = np.array(data[1])[:, newaxis]\n",
    "        learningValue = singleLayerNetworkTest.learn(inputToNet, target)\n",
    "    finalBoolMatrix = []\n",
    "    for data in dataset:\n",
    "        inputToNet = np.array(data[0])[:, newaxis]\n",
    "        finalBoolMatrix.append(singleLayerNetworkTest.getSingleLayerNetworkOutput(inputToNet)[0][0])\n",
    "    wrong = ((np.array(targetBoolMatrix)-np.array(finalBoolMatrix))**2).sum()\n",
    "        \n",
    "finalA = singleLayerNetworkTest.getWeights()[0][0]\n",
    "finalB = singleLayerNetworkTest.getWeights()[0][1]\n",
    "finalC = singleLayerNetworkTest.getBiases()[0][0]        \n",
    "\n",
    "print(\"Final classification is...\")\n",
    "print((finalA, finalB, finalC))\n",
    "print(\"Ratios are...\")\n",
    "print((finalA/classification[0], finalB/classification[1], finalC/classification[2]))\n",
    "print(\"It took \" + str(numOfInterations) + \" number of interations to get to right output.\")\n",
    "\n",
    "plot((singleLayerNetworkTest.getWeights()[0][0], \n",
    "      singleLayerNetworkTest.getWeights()[0][1], \n",
    "      singleLayerNetworkTest.getBiases()[0][0]),\n",
    "    \"*-*-*Final Condition*-*-*\")\n",
    "\n",
    "# for data in dataset:\n",
    "#     inputToNet = np.array(data[0])[:, newaxis]\n",
    "#     print(singleLayerNetworkTest.getSingleLayerNetworkOutput(inputToNet))[0][0]"
   ]
  },
  {
   "cell_type": "markdown",
   "metadata": {},
   "source": [
    "# Numpy Practice"
   ]
  },
  {
   "cell_type": "markdown",
   "metadata": {},
   "source": [
    "Tutorial: https://docs.scipy.org/doc/numpy-dev/user/quickstart.html\n",
    "    \n",
    "Reference: https://docs.scipy.org/doc/numpy-dev/reference/index.html#reference"
   ]
  },
  {
   "cell_type": "markdown",
   "metadata": {},
   "source": [
    "### Basics Attributes"
   ]
  },
  {
   "cell_type": "code",
   "execution_count": 450,
   "metadata": {
    "collapsed": false
   },
   "outputs": [
    {
     "name": "stdout",
     "output_type": "stream",
     "text": [
      "[[[ 0  1  2  3  4]\n",
      "  [ 5  6  7  8  9]\n",
      "  [10 11 12 13 14]]\n",
      "\n",
      " [[15 16 17 18 19]\n",
      "  [20 21 22 23 24]\n",
      "  [25 26 27 28 29]]]\n",
      "(2, 3, 5)\n",
      "3\n",
      "int64\n",
      "8\n",
      "30\n",
      "<type 'numpy.ndarray'>\n"
     ]
    }
   ],
   "source": [
    "import numpy as np\n",
    "a = np.arange(30).reshape(2, 3, 5)\n",
    "print(a)             # prints a\n",
    "print(a.shape)       # prints dimensions of a \n",
    "print(a.ndim)        # prints number of dimensions of a \n",
    "print(a.dtype.name)  # prints type of data stored in a\n",
    "print(a.itemsize)    # prints the size each item in bytes\n",
    "print(a.size)        # prints the number of total elements in a\n",
    "print(type(a))       "
   ]
  },
  {
   "cell_type": "markdown",
   "metadata": {},
   "source": [
    "### Array Creation"
   ]
  },
  {
   "cell_type": "code",
   "execution_count": 451,
   "metadata": {
    "collapsed": false
   },
   "outputs": [
    {
     "name": "stdout",
     "output_type": "stream",
     "text": [
      "[1 2 3 4 5 6]\n",
      "int64\n",
      "[1, 2, 3, 4.0, 5, 6]\n",
      "[ 1.  2.  3.  4.  5.  6.]\n",
      "float64\n"
     ]
    }
   ],
   "source": [
    "arr = [1, 2, 3, 4, 5, 6]\n",
    "a = np.array(arr)\n",
    "print(a)\n",
    "print(a.dtype)\n",
    "arr[3] = arr[3] * 1.0\n",
    "a = np.array(arr)\n",
    "print(arr)\n",
    "print(a)\n",
    "print(a.dtype)"
   ]
  },
  {
   "cell_type": "code",
   "execution_count": 452,
   "metadata": {
    "collapsed": false
   },
   "outputs": [
    {
     "ename": "ValueError",
     "evalue": "only 2 non-keyword arguments accepted",
     "output_type": "error",
     "traceback": [
      "\u001b[0;31m---------------------------------------------------------------------------\u001b[0m",
      "\u001b[0;31mValueError\u001b[0m                                Traceback (most recent call last)",
      "\u001b[0;32m<ipython-input-452-e2c957c72034>\u001b[0m in \u001b[0;36m<module>\u001b[0;34m()\u001b[0m\n\u001b[0;32m----> 1\u001b[0;31m \u001b[0mnp\u001b[0m\u001b[0;34m.\u001b[0m\u001b[0marray\u001b[0m\u001b[0;34m(\u001b[0m\u001b[0;36m1\u001b[0m\u001b[0;34m,\u001b[0m \u001b[0;36m2\u001b[0m\u001b[0;34m,\u001b[0m \u001b[0;36m3\u001b[0m\u001b[0;34m,\u001b[0m \u001b[0;36m4\u001b[0m\u001b[0;34m)\u001b[0m         \u001b[0;31m# WRONG WAY\u001b[0m\u001b[0;34m\u001b[0m\u001b[0m\n\u001b[0m",
      "\u001b[0;31mValueError\u001b[0m: only 2 non-keyword arguments accepted"
     ]
    }
   ],
   "source": [
    "np.array(1, 2, 3, 4)         # WRONG WAY"
   ]
  },
  {
   "cell_type": "code",
   "execution_count": 453,
   "metadata": {
    "collapsed": false
   },
   "outputs": [
    {
     "name": "stdout",
     "output_type": "stream",
     "text": [
      "[[1, 2, 3] [4, 5, 6, 7]]\n",
      "7\n"
     ]
    }
   ],
   "source": [
    "b = np.array([[1, 2, 3], [4, 5, 6, 7]])\n",
    "print(b)\n",
    "print(b[1][3])"
   ]
  },
  {
   "cell_type": "code",
   "execution_count": 454,
   "metadata": {
    "collapsed": false
   },
   "outputs": [
    {
     "name": "stdout",
     "output_type": "stream",
     "text": [
      "[ 1.+0.j  2.+0.j  3.+0.j]\n",
      "complex128\n"
     ]
    }
   ],
   "source": [
    "c = np.array([1, 2, 3], dtype = complex)\n",
    "print(c)\n",
    "print(c.dtype)"
   ]
  },
  {
   "cell_type": "code",
   "execution_count": 455,
   "metadata": {
    "collapsed": false
   },
   "outputs": [
    {
     "name": "stdout",
     "output_type": "stream",
     "text": [
      "[[[ 0.  0.]\n",
      "  [ 0.  0.]\n",
      "  [ 0.  0.]]\n",
      "\n",
      " [[ 0.  0.]\n",
      "  [ 0.  0.]\n",
      "  [ 0.  0.]]]\n",
      "\n",
      "\n",
      "[[ 1.  1.  1.  1.]\n",
      " [ 1.  1.  1.  1.]\n",
      " [ 1.  1.  1.  1.]]\n",
      "\n",
      "\n",
      "[[ 0.92414182  0.99998489]\n",
      " [ 0.99990858  0.99908895]]\n"
     ]
    }
   ],
   "source": [
    "print(np.zeros((2, 3, 2)))\n",
    "print(\"\\n\")\n",
    "print(np.ones((3, 4)))\n",
    "print(\"\\n\")\n",
    "print(np.empty((2, 2)))"
   ]
  },
  {
   "cell_type": "code",
   "execution_count": 456,
   "metadata": {
    "collapsed": false
   },
   "outputs": [
    {
     "name": "stdout",
     "output_type": "stream",
     "text": [
      "[0 1 2 3 4 5 6 7 8 9]\n",
      "[10 11 12 13 14 15 16 17 18 19]\n",
      "[10 12 14 16 18]\n"
     ]
    }
   ],
   "source": [
    "print(np.arange(10))\n",
    "print(np.arange(10, 20))\n",
    "print(np.arange(10, 20, 2))"
   ]
  },
  {
   "cell_type": "code",
   "execution_count": 457,
   "metadata": {
    "collapsed": false
   },
   "outputs": [
    {
     "name": "stdout",
     "output_type": "stream",
     "text": [
      "[ 0.    0.25  0.5   0.75  1.    1.25  1.5   1.75  2.  ]\n",
      "[ 0.          0.6981317   1.3962634   2.0943951   2.7925268   3.4906585\n",
      "  4.1887902   4.88692191  5.58505361  6.28318531]\n"
     ]
    }
   ],
   "source": [
    "from numpy import pi\n",
    "print(np.linspace(0, 2, 9))           # nine numbers from 0 to 2\n",
    "x = np.linspace(0, 2*pi, 10)         # to evaluate a function on lots of points\n",
    "print(x)"
   ]
  },
  {
   "cell_type": "code",
   "execution_count": 458,
   "metadata": {
    "collapsed": false,
    "scrolled": true
   },
   "outputs": [
    {
     "name": "stdout",
     "output_type": "stream",
     "text": [
      "[  0.00000000e+00   6.42787610e-01   9.84807753e-01   8.66025404e-01\n",
      "   3.42020143e-01  -3.42020143e-01  -8.66025404e-01  -9.84807753e-01\n",
      "  -6.42787610e-01  -2.44929360e-16]\n"
     ]
    }
   ],
   "source": [
    "f = np.sin(x)\n",
    "print(f)"
   ]
  },
  {
   "cell_type": "markdown",
   "metadata": {},
   "source": [
    "### Printing Array"
   ]
  },
  {
   "cell_type": "code",
   "execution_count": 459,
   "metadata": {
    "collapsed": false
   },
   "outputs": [
    {
     "name": "stdout",
     "output_type": "stream",
     "text": [
      "[0 1 2 3 4 5]\n"
     ]
    }
   ],
   "source": [
    "a = np.arange(6)\n",
    "print(a)"
   ]
  },
  {
   "cell_type": "code",
   "execution_count": 460,
   "metadata": {
    "collapsed": false
   },
   "outputs": [
    {
     "name": "stdout",
     "output_type": "stream",
     "text": [
      "[[ 0  1  2  3]\n",
      " [ 4  5  6  7]\n",
      " [ 8  9 10 11]]\n"
     ]
    }
   ],
   "source": [
    "b = np.arange(12).reshape(3, 4)\n",
    "print(b)"
   ]
  },
  {
   "cell_type": "code",
   "execution_count": 461,
   "metadata": {
    "collapsed": false
   },
   "outputs": [
    {
     "name": "stdout",
     "output_type": "stream",
     "text": [
      "[[[ 0  1  2  3]\n",
      "  [ 4  5  6  7]\n",
      "  [ 8  9 10 11]]\n",
      "\n",
      " [[12 13 14 15]\n",
      "  [16 17 18 19]\n",
      "  [20 21 22 23]]]\n"
     ]
    }
   ],
   "source": [
    "c = np.arange(24).reshape(2, 3, 4)\n",
    "print(c)"
   ]
  },
  {
   "cell_type": "code",
   "execution_count": 462,
   "metadata": {
    "collapsed": false
   },
   "outputs": [
    {
     "name": "stdout",
     "output_type": "stream",
     "text": [
      "[   0    1    2 ..., 9997 9998 9999]\n"
     ]
    }
   ],
   "source": [
    "print(np.arange(10000))"
   ]
  },
  {
   "cell_type": "code",
   "execution_count": 463,
   "metadata": {
    "collapsed": false
   },
   "outputs": [
    {
     "name": "stdout",
     "output_type": "stream",
     "text": [
      "[[   0    1    2 ...,   97   98   99]\n",
      " [ 100  101  102 ...,  197  198  199]\n",
      " [ 200  201  202 ...,  297  298  299]\n",
      " ..., \n",
      " [9700 9701 9702 ..., 9797 9798 9799]\n",
      " [9800 9801 9802 ..., 9897 9898 9899]\n",
      " [9900 9901 9902 ..., 9997 9998 9999]]\n"
     ]
    }
   ],
   "source": [
    "print(np.arange(10000).reshape(100,100))"
   ]
  },
  {
   "cell_type": "markdown",
   "metadata": {},
   "source": [
    "### Basic Operations"
   ]
  },
  {
   "cell_type": "code",
   "execution_count": 464,
   "metadata": {
    "collapsed": false
   },
   "outputs": [
    {
     "name": "stdout",
     "output_type": "stream",
     "text": [
      "[ 20.  20.  20.  20.  20.]\n",
      "[0 1 2 3 4]\n",
      "[ 20.  19.  18.  17.  16.]\n",
      "[ 20.  21.  22.  23.  24.]\n",
      "[  0.  20.  40.  60.  80.]\n",
      "[ 0.    0.05  0.1   0.15  0.2 ]\n"
     ]
    }
   ],
   "source": [
    "a = np.array([20.0]*5)\n",
    "print(a)\n",
    "b = np.arange(5)\n",
    "print(b)\n",
    "\n",
    "c = a - b\n",
    "print(c)\n",
    "\n",
    "c = a + b\n",
    "print(c)\n",
    "\n",
    "c = a * b\n",
    "print(c)\n",
    "\n",
    "c = b / a\n",
    "print(c)"
   ]
  },
  {
   "cell_type": "code",
   "execution_count": 465,
   "metadata": {
    "collapsed": false
   },
   "outputs": [
    {
     "name": "stdout",
     "output_type": "stream",
     "text": [
      "[  0.00000000e+00   6.28381369e-04   1.25676274e-03 ...,   6.28192854e+00\n",
      "   6.28255693e+00   6.28318531e+00]\n"
     ]
    }
   ],
   "source": [
    "import matplotlib.pyplot as plt\n",
    "a = np.linspace(0, 2*pi, 10000)\n",
    "f = 10 * np.cos(a)                       # TRIGONOMETRIC FUNCTIONS\n",
    "print(a)\n",
    "plt.plot(a, f)\n",
    "plt.show()"
   ]
  },
  {
   "cell_type": "code",
   "execution_count": 466,
   "metadata": {
    "collapsed": false
   },
   "outputs": [
    {
     "name": "stdout",
     "output_type": "stream",
     "text": [
      "[[0 1 2]\n",
      " [3 4 5]]\n",
      "[[0 1]\n",
      " [2 3]\n",
      " [4 5]]\n",
      "[[10 13]\n",
      " [28 40]]\n",
      "[[10 13]\n",
      " [28 40]]\n"
     ]
    }
   ],
   "source": [
    "A = np.arange(6).reshape(2, 3)\n",
    "print(A)\n",
    "B = np.arange(6).reshape(3, 2)\n",
    "print(B)\n",
    "print(A.dot(B))                          # MATRIX MULTIPLICATION\n",
    "print(np.dot(A, B))                      # MATRIX MULTIPLICATION "
   ]
  },
  {
   "cell_type": "code",
   "execution_count": 467,
   "metadata": {
    "collapsed": false
   },
   "outputs": [
    {
     "name": "stdout",
     "output_type": "stream",
     "text": [
      "[[0 1 2 3 4]\n",
      " [5 6 7 8 9]]\n",
      "[[ 0  3  6  9 12]\n",
      " [15 18 21 24 27]]\n",
      "[[1 1 1 1 1]\n",
      " [1 1 1 1 1]]\n",
      "[[4 4 4 4 4]\n",
      " [4 4 4 4 4]]\n"
     ]
    }
   ],
   "source": [
    "C = np.arange(10).reshape(2, 5)\n",
    "print(C)\n",
    "C *= 3\n",
    "print(C)\n",
    "\n",
    "D = np.ones((2, 5), dtype = int)\n",
    "print(D)\n",
    "D += 3\n",
    "print(D)"
   ]
  },
  {
   "cell_type": "code",
   "execution_count": 468,
   "metadata": {
    "collapsed": false
   },
   "outputs": [
    {
     "name": "stdout",
     "output_type": "stream",
     "text": [
      "[[ 0.76703833  0.29344628  0.5804827 ]\n",
      " [ 0.27359375  0.81077392  0.88346222]]\n",
      "[[0 1 2]\n",
      " [3 4 5]]\n",
      "[[ 0.76703833  1.29344628  2.5804827 ]\n",
      " [ 3.27359375  4.81077392  5.88346222]]\n"
     ]
    },
    {
     "ename": "TypeError",
     "evalue": "Cannot cast ufunc add output from dtype('float64') to dtype('int64') with casting rule 'same_kind'",
     "output_type": "error",
     "traceback": [
      "\u001b[0;31m---------------------------------------------------------------------------\u001b[0m",
      "\u001b[0;31mTypeError\u001b[0m                                 Traceback (most recent call last)",
      "\u001b[0;32m<ipython-input-468-1573cc7658a7>\u001b[0m in \u001b[0;36m<module>\u001b[0;34m()\u001b[0m\n\u001b[1;32m      7\u001b[0m \u001b[0;32mprint\u001b[0m\u001b[0;34m(\u001b[0m\u001b[0mR\u001b[0m\u001b[0;34m)\u001b[0m\u001b[0;34m\u001b[0m\u001b[0m\n\u001b[1;32m      8\u001b[0m \u001b[0;34m\u001b[0m\u001b[0m\n\u001b[0;32m----> 9\u001b[0;31m \u001b[0mQ\u001b[0m \u001b[0;34m+=\u001b[0m \u001b[0mR\u001b[0m                                  \u001b[0;31m# GIVES AN ERROR SINCE FLOAT IS STRONGER TYPE\u001b[0m\u001b[0;34m\u001b[0m\u001b[0m\n\u001b[0m\u001b[1;32m     10\u001b[0m \u001b[0;32mprint\u001b[0m\u001b[0;34m(\u001b[0m\u001b[0mQ\u001b[0m\u001b[0;34m)\u001b[0m\u001b[0;34m\u001b[0m\u001b[0m\n",
      "\u001b[0;31mTypeError\u001b[0m: Cannot cast ufunc add output from dtype('float64') to dtype('int64') with casting rule 'same_kind'"
     ]
    }
   ],
   "source": [
    "R = np.random.random((2, 3))            # RANDOM ARRAY\n",
    "print(R)\n",
    "Q = np.arange(6).reshape(2, 3)\n",
    "print(Q)\n",
    "\n",
    "R += Q                                  # CREATES NO ERROR SINCE INT -> FLOAT IS OKAY (UPCASTING)\n",
    "print(R) \n",
    "\n",
    "Q += R                                  # GIVES AN ERROR SINCE FLOAT IS STRONGER TYPE\n",
    "print(Q)"
   ]
  },
  {
   "cell_type": "code",
   "execution_count": 483,
   "metadata": {
    "collapsed": false
   },
   "outputs": [
    {
     "name": "stdout",
     "output_type": "stream",
     "text": [
      "[[ 0.57450612  0.50846811  0.36006841  0.86646903  0.75839234]\n",
      " [ 0.90901071  0.44016476  0.13068762  0.39995245  0.09445004]\n",
      " [ 0.06590311  0.28281523  0.41277522  0.42132231  0.73887434]\n",
      " [ 0.32301684  0.93243134  0.76118341  0.1115918   0.27709921]\n",
      " [ 0.39940477  0.6464604   0.31996094  0.71076778  0.59184594]]\n",
      "[[ 1.4901225   0.16936226 -2.79863182  7.32938057  5.16784671]\n",
      " [ 8.18021428 -1.19670475 -7.38624753 -2.00095102 -8.11099917]\n",
      " [-8.68193778 -4.34369546 -1.74449567 -1.57355387  4.77748674]\n",
      " [-3.53966317  8.64862686  5.22366829 -7.76816397 -4.45801581]\n",
      " [-2.0119047   2.92920796 -3.60078116  4.21535558  1.83691877]]\n"
     ]
    }
   ],
   "source": [
    "R = np.random.random((5, 5))\n",
    "print(R)\n",
    "R = 20 * R - 10\n",
    "print(R)"
   ]
  },
  {
   "cell_type": "code",
   "execution_count": 484,
   "metadata": {
    "collapsed": false
   },
   "outputs": [
    {
     "name": "stdout",
     "output_type": "stream",
     "text": [
      "[[ 1.  1.]\n",
      " [ 1.  1.]]\n",
      "float64\n",
      "[[-1. +1.22464680e-16j -1. +1.22464680e-16j]\n",
      " [-1. +1.22464680e-16j -1. +1.22464680e-16j]]\n",
      "complex128\n"
     ]
    }
   ],
   "source": [
    "R = np.ones((2, 2))\n",
    "Q = np.exp(R * pi * 1j)\n",
    "print(R)\n",
    "print(R.dtype)\n",
    "print(Q)\n",
    "print(Q.dtype)"
   ]
  },
  {
   "cell_type": "code",
   "execution_count": 485,
   "metadata": {
    "collapsed": false
   },
   "outputs": [
    {
     "name": "stdout",
     "output_type": "stream",
     "text": [
      "[[ 0.71775967  0.55801318  0.07296316 ...,  0.03527648  0.59703017\n",
      "   0.99604209]\n",
      " [ 0.47831664  0.82269367  0.35652614 ...,  0.8066466   0.04552769\n",
      "   0.04079616]\n",
      " [ 0.17981501  0.96344978  0.66089384 ...,  0.44120229  0.49022538\n",
      "   0.87320096]\n",
      " ..., \n",
      " [ 0.58095253  0.28748987  0.33974541 ...,  0.32536501  0.29120754\n",
      "   0.8581187 ]\n",
      " [ 0.80902303  0.82259275  0.48574197 ...,  0.31870033  0.81255837\n",
      "   0.17863288]\n",
      " [ 0.01290735  0.35069601  0.616315   ...,  0.31077703  0.87827449\n",
      "   0.89347111]]\n",
      "1.00113105191\n",
      "0.999999174371\n"
     ]
    }
   ],
   "source": [
    "a = np.random.random((1000, 1000))\n",
    "print(a)\n",
    "print(a.sum()/500000)                            # SUM OPERATION\n",
    "print(a.min() + a.max())                         # MIN AND MAX OPERATION"
   ]
  },
  {
   "cell_type": "code",
   "execution_count": 486,
   "metadata": {
    "collapsed": false
   },
   "outputs": [
    {
     "name": "stdout",
     "output_type": "stream",
     "text": [
      "[[ 0  1  2  3]\n",
      " [ 4  5  6  7]\n",
      " [ 8  9 10 11]]\n",
      "[12 15 18 21]\n",
      "[0 4 8]\n",
      "[ 8  9 10 11]\n",
      "[[ 0  1  3  6]\n",
      " [ 4  9 15 22]\n",
      " [ 8 17 27 38]]\n"
     ]
    }
   ],
   "source": [
    "b = np.arange(12).reshape(3, 4)\n",
    "print(b)\n",
    "print(b.sum(axis = 0))\n",
    "print(b.min(axis = 1))\n",
    "print(b.max(axis = 0))\n",
    "print(b.cumsum(axis = 1))                                # CUMULATIVE SUM OF ROWS"
   ]
  },
  {
   "cell_type": "markdown",
   "metadata": {},
   "source": [
    "### Universal Functions"
   ]
  },
  {
   "cell_type": "code",
   "execution_count": 487,
   "metadata": {
    "collapsed": false
   },
   "outputs": [
    {
     "name": "stdout",
     "output_type": "stream",
     "text": [
      "[[ 0.          1.57079633]\n",
      " [ 3.14159265  4.71238898]]\n",
      "[[  1.00000000e+00 +0.00000000e+00j   6.12323400e-17 +1.00000000e+00j]\n",
      " [ -1.00000000e+00 +1.22464680e-16j  -1.83697020e-16 -1.00000000e+00j]]\n",
      "[[  0.00000000e+00   1.00000000e+00]\n",
      " [  1.22464680e-16  -1.00000000e+00]]\n",
      "[[  1.00000000e+00   6.12323400e-17]\n",
      " [ -1.00000000e+00  -1.83697020e-16]]\n",
      "[[  0.00000000e+00   1.63312394e+16]\n",
      " [ -1.22464680e-16   5.44374645e+15]]\n"
     ]
    }
   ],
   "source": [
    "C = np.arange(4.0).reshape(2, 2)\n",
    "C *= pi / 2\n",
    "print(C)\n",
    "print(np.exp(C * 1j))                       # EXPONENTIAL\n",
    "print(np.sin(C))                            # SINE\n",
    "print(np.cos(C))                            # COSINE\n",
    "print(np.tan(C))                            # TANGENT"
   ]
  },
  {
   "cell_type": "code",
   "execution_count": 488,
   "metadata": {
    "collapsed": false
   },
   "outputs": [
    {
     "name": "stdout",
     "output_type": "stream",
     "text": [
      "[[-4.74870752  1.57823504 -4.8197158  -7.47217382 -7.60763827]\n",
      " [ 5.45754979 -5.38793252 -6.24001372 -5.02418508 -5.72749095]]\n",
      "[[-5.  1. -5. -8. -8.]\n",
      " [ 5. -6. -7. -6. -6.]]\n",
      "[[-4.  2. -4. -7. -7.]\n",
      " [ 6. -5. -6. -5. -5.]]\n"
     ]
    }
   ],
   "source": [
    "D = 20 * np.random.random((2, 5)) - 10\n",
    "print(D)\n",
    "print(np.floor(D))                          # FLOOR\n",
    "print(np.ceil(D))                           # CEILING"
   ]
  },
  {
   "cell_type": "markdown",
   "metadata": {},
   "source": [
    "### Slicing"
   ]
  },
  {
   "cell_type": "code",
   "execution_count": 489,
   "metadata": {
    "collapsed": false
   },
   "outputs": [
    {
     "name": "stdout",
     "output_type": "stream",
     "text": [
      "[[0 1]\n",
      " [2 3]]\n",
      "[[ 0  1]\n",
      " [ 8 27]]\n",
      "[8]\n",
      "[[ 8 27]]\n"
     ]
    }
   ],
   "source": [
    "C = np.arange(4).reshape(2, 2)\n",
    "print(C)\n",
    "C = C**3\n",
    "print(C)\n",
    "\n",
    "c = C[1][0:1]                           # SLICING OF ARRAYS\n",
    "print(c)\n",
    "c = C[1:2]                              # SLICING OF ARRAYS\n",
    "print(c)"
   ]
  },
  {
   "cell_type": "markdown",
   "metadata": {},
   "source": [
    "### Indexing"
   ]
  },
  {
   "cell_type": "code",
   "execution_count": 490,
   "metadata": {
    "collapsed": false
   },
   "outputs": [
    {
     "name": "stdout",
     "output_type": "stream",
     "text": [
      "[[0 1 2 3]\n",
      " [1 2 3 4]\n",
      " [2 3 4 5]\n",
      " [3 4 5 6]\n",
      " [4 5 6 7]]\n",
      "5\n",
      "5\n",
      "[2 3 4 5 6]\n",
      "[2 3 4 5 6]\n",
      "[[0 1 2 3]\n",
      " [1 2 3 4]]\n"
     ]
    }
   ],
   "source": [
    "def f(x,y):                             # function can decide element at index (x, y)\n",
    "    return x + y\n",
    "\n",
    "b = np.fromfunction(f, (5, 4), dtype = int)\n",
    "print(b)\n",
    "\n",
    "print(b[2, 3])                          \n",
    "print(b[2][3])\n",
    "print(b[0:5, 2])                        # each row in the third column of b\n",
    "print(b[ : , 2])\n",
    "print(b[ :2, :])                        # each column in the first and second row of b"
   ]
  },
  {
   "cell_type": "code",
   "execution_count": 491,
   "metadata": {
    "collapsed": false
   },
   "outputs": [
    {
     "name": "stdout",
     "output_type": "stream",
     "text": [
      "[[[[ 0  1]\n",
      "   [ 2  3]]\n",
      "\n",
      "  [[ 4  5]\n",
      "   [ 6  7]]]\n",
      "\n",
      "\n",
      " [[[ 8  9]\n",
      "   [10 11]]\n",
      "\n",
      "  [[12 13]\n",
      "   [14 15]]]]\n",
      "-------------\n",
      "[[ 5  7]\n",
      " [13 15]]\n",
      "-------------\n",
      "[[[ 1  3]\n",
      "  [ 5  7]]\n",
      "\n",
      " [[ 9 11]\n",
      "  [13 15]]]\n",
      "-------------\n",
      "[[[ 4  5]\n",
      "  [ 6  7]]\n",
      "\n",
      " [[12 13]\n",
      "  [14 15]]]\n"
     ]
    }
   ],
   "source": [
    "# \"...\" indicates to consider full length\n",
    "b = np.arange(16).reshape(2, 2, 2, 2)\n",
    "print(b)\n",
    "print(\"-------------\")\n",
    "print(b[:, 1, :, 1])\n",
    "print(\"-------------\")\n",
    "print(b[..., 1])\n",
    "print(\"-------------\")\n",
    "print(b[:, 1, ...])"
   ]
  },
  {
   "cell_type": "markdown",
   "metadata": {},
   "source": [
    "### Iterating"
   ]
  },
  {
   "cell_type": "code",
   "execution_count": 470,
   "metadata": {
    "collapsed": false
   },
   "outputs": [
    {
     "name": "stdout",
     "output_type": "stream",
     "text": [
      "[0 1]\n",
      "0\n",
      "1\n",
      "[2 3]\n",
      "2\n",
      "3\n",
      "[4 5]\n",
      "4\n",
      "5\n",
      "[6 7]\n",
      "6\n",
      "7\n",
      "[8 9]\n",
      "8\n",
      "9\n"
     ]
    }
   ],
   "source": [
    "b = np.arange(10).reshape(5, 2)\n",
    "for row in b:\n",
    "    print(row)\n",
    "    for col in row:\n",
    "        print col"
   ]
  },
  {
   "cell_type": "markdown",
   "metadata": {},
   "source": [
    "### Reshaping Array"
   ]
  },
  {
   "cell_type": "code",
   "execution_count": 471,
   "metadata": {
    "collapsed": false
   },
   "outputs": [
    {
     "name": "stdout",
     "output_type": "stream",
     "text": [
      "[[ 0  1  2  3]\n",
      " [ 4  5  6  7]\n",
      " [ 8  9 10 11]\n",
      " [12 13 14 15]]\n",
      "-------------\n",
      "[ 0  1  2  3  4  5  6  7  8  9 10 11 12 13 14 15]\n",
      "-------------\n",
      "[[ 0  1  2  3  4  5  6  7]\n",
      " [ 8  9 10 11 12 13 14 15]]\n",
      "-------------\n",
      "[[ 0  1  2  3]\n",
      " [ 4  5  6  7]\n",
      " [ 8  9 10 11]\n",
      " [12 13 14 15]]\n"
     ]
    }
   ],
   "source": [
    "b = np.arange(16).reshape(4, 4)\n",
    "print(b)\n",
    "print(\"-------------\")\n",
    "\n",
    "b = b.ravel()                          # FLATTEN THE ARRAY\n",
    "print(b)\n",
    "print(\"-------------\")\n",
    "\n",
    "b.shape = (2, 8)                       # ASSIGNING THE SHAPE\n",
    "print(b)\n",
    "print(\"-------------\")\n",
    "\n",
    "b.resize(4, 4)                         # RESIZE THE ARRAY\n",
    "print(b)"
   ]
  },
  {
   "cell_type": "markdown",
   "metadata": {},
   "source": [
    "### Stacking Arrays"
   ]
  },
  {
   "cell_type": "code",
   "execution_count": 472,
   "metadata": {
    "collapsed": false
   },
   "outputs": [
    {
     "name": "stdout",
     "output_type": "stream",
     "text": [
      "[[1 2]\n",
      " [2 1]]\n",
      "[[-2  0]\n",
      " [ 0 -2]]\n",
      "[[ 1  2]\n",
      " [ 2  1]\n",
      " [-2  0]\n",
      " [ 0 -2]]\n",
      "[[ 1  2 -2  0]\n",
      " [ 2  1  0 -2]]\n"
     ]
    }
   ],
   "source": [
    "a = np.array([[1, 2], [2, 1]])\n",
    "print(a)\n",
    "b = a*2 - 4\n",
    "print(b)\n",
    "\n",
    "print(np.vstack((a, b)))                 # VERTICAL STACKING\n",
    "print(np.hstack((a, b)))                 # HORIZONTAL STACKING"
   ]
  },
  {
   "cell_type": "code",
   "execution_count": 473,
   "metadata": {
    "collapsed": false
   },
   "outputs": [
    {
     "name": "stdout",
     "output_type": "stream",
     "text": [
      "[0 1 2 3 4]\n",
      "--------------\n",
      "[[0]\n",
      " [1]\n",
      " [2]\n",
      " [3]\n",
      " [4]]\n",
      "--------------\n",
      "[ 0.  0.  0.  0.  0.]\n",
      "--------------\n",
      "[[ 0.  0.]\n",
      " [ 1.  0.]\n",
      " [ 2.  0.]\n",
      " [ 3.  0.]\n",
      " [ 4.  0.]]\n",
      "--------------\n",
      "[[ 0.  0.]\n",
      " [ 1.  0.]\n",
      " [ 2.  0.]\n",
      " [ 3.  0.]\n",
      " [ 4.  0.]]\n"
     ]
    }
   ],
   "source": [
    "from numpy import newaxis\n",
    "a = np.arange(5)\n",
    "print(a)\n",
    "print(\"--------------\")\n",
    "b = a[:, newaxis]             # USED TO CREATE \"COLUMN VECTORS\" FROM ROW VECTORS\n",
    "print(b)\n",
    "print(\"--------------\")\n",
    "c = np.zeros(5)\n",
    "print(c)\n",
    "print(\"--------------\")\n",
    "d = np.column_stack((a[:, newaxis], c[:, newaxis]))\n",
    "print(d)\n",
    "print(\"--------------\")\n",
    "d = np.hstack((a[:, newaxis], c[:, newaxis]))\n",
    "print(d)"
   ]
  },
  {
   "cell_type": "markdown",
   "metadata": {},
   "source": [
    "### Splitting Arrays"
   ]
  },
  {
   "cell_type": "code",
   "execution_count": 474,
   "metadata": {
    "collapsed": false
   },
   "outputs": [
    {
     "name": "stdout",
     "output_type": "stream",
     "text": [
      "[[ 1.  8.  9.  8.  0.  9.  1.  7.  8.  1.  0.  9.]\n",
      " [ 9.  1.  1.  9.  2.  1.  5.  8.  8.  6.  6.  0.]]\n",
      "--------------\n",
      "[[ 1.  8.  9.  8.]\n",
      " [ 9.  1.  1.  9.]]\n",
      "--------------\n",
      "[[ 0.  9.  1.  7.]\n",
      " [ 2.  1.  5.  8.]]\n",
      "--------------\n",
      "[[ 8.  1.  0.  9.]\n",
      " [ 8.  6.  6.  0.]]\n"
     ]
    }
   ],
   "source": [
    "a = np.floor(10 * np.random.random((2, 12)))\n",
    "print(a)\n",
    "print(\"--------------\")\n",
    "print(np.hsplit(a, 3)[0])                      # HORIZONTAL SPLIT\n",
    "print(\"--------------\")\n",
    "print(np.hsplit(a, 3)[1])\n",
    "print(\"--------------\")\n",
    "print(np.hsplit(a, 3)[2])"
   ]
  },
  {
   "cell_type": "code",
   "execution_count": 475,
   "metadata": {
    "collapsed": false
   },
   "outputs": [
    {
     "name": "stdout",
     "output_type": "stream",
     "text": [
      "[[ 8.  3.  8.]\n",
      " [ 2.  5.  2.]\n",
      " [ 1.  2.  7.]\n",
      " [ 3.  2.  7.]\n",
      " [ 4.  0.  9.]\n",
      " [ 5.  5.  2.]\n",
      " [ 0.  3.  2.]\n",
      " [ 5.  5.  7.]]\n",
      "--------------\n",
      "[[ 8.  3.  8.]\n",
      " [ 2.  5.  2.]\n",
      " [ 1.  2.  7.]]\n",
      "--------------\n",
      "[[ 3.  2.  7.]]\n",
      "--------------\n",
      "[[ 4.  0.  9.]\n",
      " [ 5.  5.  2.]\n",
      " [ 0.  3.  2.]]\n",
      "--------------\n",
      "[[ 5.  5.  7.]]\n"
     ]
    }
   ],
   "source": [
    "a = np.floor(10 * np.random.random((8, 3)))\n",
    "print(a)\n",
    "print(\"--------------\")\n",
    "print(np.vsplit(a, (3, 4, 7))[0])                      # VERTICALLY SPLIT\n",
    "print(\"--------------\")\n",
    "print(np.vsplit(a, (3, 4, 7))[1])                      # ON PARTICULAR POSITIONS\n",
    "print(\"--------------\")\n",
    "print(np.vsplit(a, (3, 4, 7))[2])                      # VERTICALLY\n",
    "print(\"--------------\")\n",
    "print(np.vsplit(a, (3, 4, 7))[3])"
   ]
  },
  {
   "cell_type": "markdown",
   "metadata": {},
   "source": [
    "### Copies and Views"
   ]
  },
  {
   "cell_type": "code",
   "execution_count": 476,
   "metadata": {
    "collapsed": false
   },
   "outputs": [
    {
     "name": "stdout",
     "output_type": "stream",
     "text": [
      "[0 1 3 3 4 5]\n",
      "140633342995792\n",
      "140633342995792\n"
     ]
    }
   ],
   "source": [
    "# NO COPY AT ALL\n",
    "A = np.arange(6)\n",
    "B = A               # B is assigned to A\n",
    "B[2] = 3            # SO CHANGE IN B... \n",
    "print(A)            # ... IS REFLECTED IN A\n",
    "print(id(A))\n",
    "print(id(B))"
   ]
  },
  {
   "cell_type": "code",
   "execution_count": 477,
   "metadata": {
    "collapsed": false
   },
   "outputs": [
    {
     "name": "stdout",
     "output_type": "stream",
     "text": [
      "140633342995792\n",
      "140633342995792\n"
     ]
    }
   ],
   "source": [
    "def f(x):\n",
    "     print(id(x))\n",
    "          \n",
    "f(A)\n",
    "print(id(A))"
   ]
  },
  {
   "cell_type": "code",
   "execution_count": 478,
   "metadata": {
    "collapsed": false
   },
   "outputs": [
    {
     "name": "stdout",
     "output_type": "stream",
     "text": [
      "False\n",
      "True\n",
      "-------\n",
      "True\n",
      "False\n"
     ]
    }
   ],
   "source": [
    "B = A.view()\n",
    "print(B is A)\n",
    "print(B.base is A)\n",
    "print(\"-------\")\n",
    "B = A\n",
    "print(B is A)\n",
    "print(B.base is A)"
   ]
  },
  {
   "cell_type": "code",
   "execution_count": 479,
   "metadata": {
    "collapsed": false
   },
   "outputs": [
    {
     "name": "stdout",
     "output_type": "stream",
     "text": [
      "False\n",
      "False\n"
     ]
    }
   ],
   "source": [
    "# DEEP COPY\n",
    "B = A.copy()\n",
    "print(B is A)\n",
    "print(B.base is A)"
   ]
  },
  {
   "cell_type": "code",
   "execution_count": 480,
   "metadata": {
    "collapsed": false
   },
   "outputs": [
    {
     "name": "stdout",
     "output_type": "stream",
     "text": [
      "True\n",
      "True\n"
     ]
    }
   ],
   "source": [
    "# numpy.ndarray.base\n",
    "# It is base object if memory is from some other object.\n",
    "\n",
    "# Examples:\n",
    "# 1. The base of an array that owns its memory is None:\n",
    "x = np.array([1,2,3,4])\n",
    "print(x.base is None)\n",
    "\n",
    "# 2. Slicing creates a view, whose memory is shared with x:\n",
    "y = x[2:]\n",
    "print(y.base is x)"
   ]
  },
  {
   "cell_type": "code",
   "execution_count": 38,
   "metadata": {
    "collapsed": false
   },
   "outputs": [
    {
     "name": "stdout",
     "output_type": "stream",
     "text": [
      "[  0   1   4   9  16  25  36  49  64  81 100 121]\n",
      "---------\n",
      "[121   9   9  16  25   9]\n"
     ]
    }
   ],
   "source": [
    "a = np.arange(12)**2\n",
    "print(a)\n",
    "print(\"---------\")\n",
    "i = np.array([11, 3, 3, 4, 5, 3])\n",
    "b = a[i]                          # MAKING AN ARRAY OF ELEMENTS \n",
    "print(b)                          # AT A PARTICULAR INDICES IN PARTICULAR ORDER"
   ]
  },
  {
   "cell_type": "code",
   "execution_count": 42,
   "metadata": {
    "collapsed": true
   },
   "outputs": [],
   "source": []
  },
  {
   "cell_type": "code",
   "execution_count": null,
   "metadata": {
    "collapsed": true
   },
   "outputs": [],
   "source": []
  }
 ],
 "metadata": {
  "kernelspec": {
   "display_name": "Python 2",
   "language": "python",
   "name": "python2"
  }
 },
 "nbformat": 4,
 "nbformat_minor": 0
}
