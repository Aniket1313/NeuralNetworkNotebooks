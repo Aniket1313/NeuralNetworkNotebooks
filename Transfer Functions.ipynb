{
 "cells": [
  {
   "cell_type": "markdown",
   "metadata": {},
   "source": [
    "# Transfer Functions"
   ]
  },
  {
   "cell_type": "markdown",
   "metadata": {},
   "source": [
    "#### Imports"
   ]
  },
  {
   "cell_type": "code",
   "execution_count": 1,
   "metadata": {
    "collapsed": true
   },
   "outputs": [],
   "source": [
    "import numpy as np\n",
    "import matplotlib.pyplot as plt\n",
    "%matplotlib inline "
   ]
  },
  {
   "cell_type": "markdown",
   "metadata": {},
   "source": [
    "### Summer"
   ]
  },
  {
   "cell_type": "code",
   "execution_count": 2,
   "metadata": {
    "collapsed": false
   },
   "outputs": [
    {
     "name": "stdout",
     "output_type": "stream",
     "text": [
      "24\n"
     ]
    }
   ],
   "source": [
    "def summer(w, p, bias):\n",
    "    # w and p are vectors of length n and b is the bias\n",
    "    # summer returns w_1*p_1 + w_2*p_2 + ... + w_n*p_n + b\n",
    "    return (w * p).sum() + bias\n",
    "\n",
    "print(summer(np.array([1, 2, 3]), np.array([1, 2, 3]), 10))"
   ]
  },
  {
   "cell_type": "markdown",
   "metadata": {},
   "source": [
    "### Hard Limit (hardlim), Symmetrical Hard Limit (hardlims)"
   ]
  },
  {
   "cell_type": "code",
   "execution_count": 3,
   "metadata": {
    "collapsed": false
   },
   "outputs": [],
   "source": [
    "def hardlim(w, p, bias):\n",
    "    # w and p are vectors of length n and b is the bias\n",
    "    # hardlim return 1 if sum w*p + b is greater than or equal to zero and returns 0 otherwise\n",
    "    if summer(w, p, bias) >= 0:\n",
    "        return 1\n",
    "    else:\n",
    "        return 0\n",
    "\n",
    "def hardlims(w, p, bias):\n",
    "    # w and p are vectors of length n and b is the bias\n",
    "    # hardlim returns 1 if sum w*p + b is greater than or equal to zero and returns -1 otherwise\n",
    "    if summer(w, p, bias) >= 0:\n",
    "        return 1\n",
    "    else:\n",
    "        return -1    \n",
    "    \n",
    "#print(hardlim([1, 2, 3], [1, 2, 3], -15))\n",
    "#print(hardlim([1, 2, 3], [1, 2, 3], -10))\n",
    "#print(hardlims([1, 2, 3], [1, 2, 3], -15))\n",
    "#print(hardlims([1, 2, 3], [1, 2, 3], -10))"
   ]
  },
  {
   "cell_type": "markdown",
   "metadata": {},
   "source": [
    "### Linear (purelin), Saturating Linear (satlin), Symmetric Saturating Linear (satlins)"
   ]
  },
  {
   "cell_type": "code",
   "execution_count": 4,
   "metadata": {
    "collapsed": false
   },
   "outputs": [],
   "source": [
    "def purelin(w, p, bias):\n",
    "    # w and p are vectors of length n and b is the bias\n",
    "    # purelin simply return the sum w*p + bias\n",
    "    return summer(w, p, bias)\n",
    "\n",
    "def satlin(w, p, bias):\n",
    "    # w and p are vectors of length n and b is the bias\n",
    "    # satlin returns 0 if sum w*p + b is less than zero, returns sum itself if sum is less than or equal to one\n",
    "    # and 1 is sum is greater than 1\n",
    "    a = summer(w, p, bias)\n",
    "    if a < 0:\n",
    "        return 0\n",
    "    elif a <= 1:\n",
    "        return a\n",
    "    else: \n",
    "        return 1\n",
    "    \n",
    "def satlins(w, p, bias):\n",
    "    # w and p are vectors of length n and b is the bias\n",
    "    # satlin returns -1 if sum w*p + b is less than -1, returns sum itself if sum is less than or equal to one\n",
    "    # and 1 is sum is greater than 1\n",
    "    a = summer(w, p, bias)\n",
    "    if a < -1:\n",
    "        return -1\n",
    "    elif a <= 1:\n",
    "        return a\n",
    "    else: \n",
    "        return 1\n",
    "    \n",
    "#print(purelin([1, 2, 3], [1, 2, 3], -16))\n",
    "#print(purelin([1, 2, 3], [1, 2, 3], -10))\n",
    "#print(satlin([1, 2, 3], [1, 2, 3], -16))\n",
    "#print(satlin([1, 2, 3], [1, 2, 3], -13.9))\n",
    "#print(satlin([1, 2, 3], [1, 2, 3], -10))\n",
    "#print(satlins([1, 2, 3], [1, 2, 3], -16))\n",
    "#print(satlins([1, 2, 3], [1, 2, 3], -14.2))\n",
    "#print(satlins([1, 2, 3], [1, 2, 3], -10))"
   ]
  },
  {
   "cell_type": "markdown",
   "metadata": {},
   "source": [
    "### Log Sigmoid (logsig), Hyperbolic Tangent Sigmoid (tansig)"
   ]
  },
  {
   "cell_type": "code",
   "execution_count": 5,
   "metadata": {
    "collapsed": false
   },
   "outputs": [],
   "source": [
    "from math import exp\n",
    "\n",
    "def logsig(w, p, bias):\n",
    "    # w and p are vectors of length n and b is the bias\n",
    "    # logsig returns 1/(1+e^-sum) where sum is w*p + b\n",
    "    return 1.0/(1.0 + exp(-1.0*summer(w, p, bias)))\n",
    "\n",
    "def tansig(w, p, bias):\n",
    "    # w and p are vectors of length n and b is the bias\n",
    "    # tansig returns (e^sum - e^-sum)/(e^sum + s^-sum) where sum is w*p + b\n",
    "    n = summer(w, p, bias)\n",
    "    return (exp(n) - exp(-n))/(exp(n) + exp(-n))\n",
    "\n",
    "#print(logsig([1, 2, 3], [1, 2, 3], -14.3))\n",
    "#print(tansig([1, 2, 3], [1, 2, 3], -13.7))"
   ]
  },
  {
   "cell_type": "markdown",
   "metadata": {},
   "source": [
    "### Testing Function"
   ]
  },
  {
   "cell_type": "code",
   "execution_count": 6,
   "metadata": {
    "collapsed": false
   },
   "outputs": [
    {
     "data": {
      "image/png": "[encoded data removed]",
      "text/plain": [
       "<matplotlib.figure.Figure at 0x7f8d5c6dab50>"
      ]
     },
     "metadata": {},
     "output_type": "display_data"
    },
    {
     "name": "stdout",
     "output_type": "stream",
     "text": [
      "[-5.  -4.9 -4.8 -4.7 -4.6 -4.5 -4.4 -4.3 -4.2 -4.1 -4.  -3.9 -3.8 -3.7 -3.6\n",
      " -3.5 -3.4 -3.3 -3.2 -3.1 -3.  -2.9 -2.8 -2.7 -2.6 -2.5 -2.4 -2.3 -2.2 -2.1\n",
      " -2.  -1.9 -1.8 -1.7 -1.6 -1.5 -1.4 -1.3 -1.2 -1.1 -1.  -0.9 -0.8 -0.7 -0.6\n",
      " -0.5 -0.4 -0.3 -0.2 -0.1  0.   0.1  0.2  0.3  0.4  0.5  0.6  0.7  0.8  0.9\n",
      "  1.   1.1  1.2  1.3  1.4  1.5  1.6  1.7  1.8  1.9  2.   2.1  2.2  2.3  2.4\n",
      "  2.5  2.6  2.7  2.8  2.9  3.   3.1  3.2  3.3  3.4  3.5  3.6  3.7  3.8  3.9\n",
      "  4.   4.1  4.2  4.3  4.4  4.5  4.6  4.7  4.8  4.9]\n",
      "[-1 -1 -1 -1 -1 -1 -1 -1 -1 -1 -1 -1 -1 -1 -1 -1 -1 -1 -1 -1 -1 -1 -1 -1 -1\n",
      " -1 -1 -1 -1 -1 -1 -1 -1 -1 -1 -1 -1 -1 -1 -1 -1 -1 -1 -1 -1 -1 -1 -1 -1 -1\n",
      "  1  1  1  1  1  1  1  1  1  1  1  1  1  1  1  1  1  1  1  1  1  1  1  1  1\n",
      "  1  1  1  1  1  1  1  1  1  1  1  1  1  1  1  1  1  1  1  1  1  1  1  1  1]\n"
     ]
    },
    {
     "data": {
      "image/png": "[encoded data removed]",
      "text/plain": [
       "<matplotlib.figure.Figure at 0x7f8d3df0a850>"
      ]
     },
     "metadata": {},
     "output_type": "display_data"
    },
    {
     "name": "stdout",
     "output_type": "stream",
     "text": [
      "[-5.  -4.9 -4.8 -4.7 -4.6 -4.5 -4.4 -4.3 -4.2 -4.1 -4.  -3.9 -3.8 -3.7 -3.6\n",
      " -3.5 -3.4 -3.3 -3.2 -3.1 -3.  -2.9 -2.8 -2.7 -2.6 -2.5 -2.4 -2.3 -2.2 -2.1\n",
      " -2.  -1.9 -1.8 -1.7 -1.6 -1.5 -1.4 -1.3 -1.2 -1.1 -1.  -0.9 -0.8 -0.7 -0.6\n",
      " -0.5 -0.4 -0.3 -0.2 -0.1  0.   0.1  0.2  0.3  0.4  0.5  0.6  0.7  0.8  0.9\n",
      "  1.   1.1  1.2  1.3  1.4  1.5  1.6  1.7  1.8  1.9  2.   2.1  2.2  2.3  2.4\n",
      "  2.5  2.6  2.7  2.8  2.9  3.   3.1  3.2  3.3  3.4  3.5  3.6  3.7  3.8  3.9\n",
      "  4.   4.1  4.2  4.3  4.4  4.5  4.6  4.7  4.8  4.9]\n",
      "[-0.9999092  -0.9998891  -0.99986455 -0.99983457 -0.99979794 -0.99975321\n",
      " -0.99969858 -0.99963186 -0.99955037 -0.99945084 -0.9993293  -0.99918087\n",
      " -0.9989996  -0.99877824 -0.99850794 -0.9981779  -0.99777493 -0.99728296\n",
      " -0.9966824  -0.99594936 -0.99505475 -0.99396317 -0.99263152 -0.99100745\n",
      " -0.9890274  -0.9866143  -0.98367486 -0.9800964  -0.97574313 -0.97045194\n",
      " -0.96402758 -0.95623746 -0.94680601 -0.93540907 -0.92166855 -0.90514825\n",
      " -0.88535165 -0.86172316 -0.83365461 -0.80049902 -0.76159416 -0.71629787\n",
      " -0.66403677 -0.60436778 -0.53704957 -0.46211716 -0.37994896 -0.29131261\n",
      " -0.19737532 -0.09966799  0.          0.09966799  0.19737532  0.29131261\n",
      "  0.37994896  0.46211716  0.53704957  0.60436778  0.66403677  0.71629787\n",
      "  0.76159416  0.80049902  0.83365461  0.86172316  0.88535165  0.90514825\n",
      "  0.92166855  0.93540907  0.94680601  0.95623746  0.96402758  0.97045194\n",
      "  0.97574313  0.9800964   0.98367486  0.9866143   0.9890274   0.99100745\n",
      "  0.99263152  0.99396317  0.99505475  0.99594936  0.9966824   0.99728296\n",
      "  0.99777493  0.9981779   0.99850794  0.99877824  0.9989996   0.99918087\n",
      "  0.9993293   0.99945084  0.99955037  0.99963186  0.99969858  0.99975321\n",
      "  0.99979794  0.99983457  0.99986455  0.9998891 ]\n"
     ]
    }
   ],
   "source": [
    "def test(func):\n",
    "    w = np.array([0, 0, 0])\n",
    "    p = np.array([0, 0, 0])\n",
    "    bias = -5\n",
    "    x = []\n",
    "    y = []\n",
    "    for i in range(0, 100):\n",
    "        x.append(summer(w, p, bias + 1.0*i/10))\n",
    "        y.append(func(w, p, bias + 1.0*i/10))\n",
    "    plt.xlim([-5, 5])\n",
    "    plt.ylim([-1.5, 1.5])\n",
    "    plt.xlabel('Summer Output')\n",
    "    plt.ylabel(func)\n",
    "    plt.plot(x, y)\n",
    "    plt.show()\n",
    "    print(np.array(x))\n",
    "    print(np.array(y))\n",
    "\n",
    "#test(hardlim)\n",
    "test(hardlims)\n",
    "#test(purelin)\n",
    "#test(satlin)\n",
    "#test(satlins)\n",
    "#test(logsig)\n",
    "test(tansig)"
   ]
  }
 ],
 "metadata": {
  "kernelspec": {
   "display_name": "Python 2",
   "language": "python",
   "name": "python2"
  },
  "language_info": {
   "codemirror_mode": {
    "name": "ipython",
    "version": 2
   },
   "file_extension": ".py",
   "mimetype": "text/x-python",
   "name": "python",
   "nbconvert_exporter": "python",
   "pygments_lexer": "ipython2",
   "version": "2.7.6"
  }
 },
 "nbformat": 4,
 "nbformat_minor": 0
}
